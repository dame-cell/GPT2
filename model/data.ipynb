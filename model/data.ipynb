{
 "cells": [
  {
   "cell_type": "code",
   "execution_count": 1,
   "metadata": {},
   "outputs": [],
   "source": [
    "from datasets import load_dataset "
   ]
  },
  {
   "cell_type": "code",
   "execution_count": 2,
   "metadata": {},
   "outputs": [],
   "source": [
    "ds = load_dataset(\"eliplutchok/fineweb-small-sample\", split='train')\n",
    "ds = ds.select(range(min(300_000, len(ds))))"
   ]
  },
  {
   "cell_type": "code",
   "execution_count": 3,
   "metadata": {},
   "outputs": [
    {
     "data": {
      "text/plain": [
       "Dataset({\n",
       "    features: ['text', 'id', 'dump', 'url', 'file_path', 'language', 'language_score', 'token_count', 'score', 'int_score'],\n",
       "    num_rows: 300000\n",
       "})"
      ]
     },
     "execution_count": 3,
     "metadata": {},
     "output_type": "execute_result"
    }
   ],
   "source": [
    "ds"
   ]
  },
  {
   "cell_type": "code",
   "execution_count": 4,
   "metadata": {},
   "outputs": [
    {
     "data": {
      "application/vnd.jupyter.widget-view+json": {
       "model_id": "39e8a7e719d748e785b232e5f0980ea1",
       "version_major": 2,
       "version_minor": 0
      },
      "text/plain": [
       "Tokenizing:   0%|          | 0/300000 [00:00<?, ?it/s]"
      ]
     },
     "metadata": {},
     "output_type": "display_data"
    }
   ],
   "source": [
    "from utils import tokenize \n",
    "import tiktoken \n",
    "\n",
    "tokenizer = tiktoken.get_encoding(\"gpt2\")\n",
    "tokens = tokenize(tokenizer,ds)"
   ]
  },
  {
   "cell_type": "code",
   "execution_count": null,
   "metadata": {},
   "outputs": [],
   "source": [
    "from sklearn.model_selection import train_test_split\n",
    "\n",
    "# Split into train and test sets (70% train, 30% test)\n",
    "train_tokens, test_tokens = train_test_split(tokens, test_size=0.3, random_state=42)\n"
   ]
  },
  {
   "cell_type": "code",
   "execution_count": null,
   "metadata": {},
   "outputs": [],
   "source": [
    "import numpy as np\n",
    "import torch\n",
    "from tqdm import tqdm\n",
    "from utils import tokenize \n",
    "import tiktoken \n",
    "\n",
    "\n",
    "def preprocess_and_save(token_ids, max_length, stride, save_path):\n",
    "    inputs = []\n",
    "    targets = []\n",
    "    \n",
    "    # Calculate the number of steps for tqdm\n",
    "    num_steps = (len(token_ids) - max_length) // stride + 1\n",
    "    \n",
    "    # Preprocess token_ids with tqdm to show progress\n",
    "    for i in tqdm(range(num_steps), desc=f\"Processing {save_path}\"):\n",
    "        start_idx = i * stride\n",
    "        input_chunk = token_ids[start_idx:start_idx + max_length]\n",
    "        target_chunk = token_ids[start_idx + 1:start_idx + max_length + 1]\n",
    "        inputs.append(input_chunk)\n",
    "        targets.append(target_chunk)\n",
    "    \n",
    "    np.savez(save_path, inputs=np.array(inputs), targets=np.array(targets))\n",
    "\n",
    "\n",
    "if __name__ == \"__main__\":\n",
    "    tokenizer = tiktoken.get_encoding(\"gpt2\")\n",
    "    args = parse_args()\n",
    "\n",
    "    split_and_save(tokens)\n"
   ]
  },
  {
   "cell_type": "code",
   "execution_count": null,
   "metadata": {},
   "outputs": [],
   "source": [
    "import torch\n",
    "import numpy as np\n",
    "\n",
    "# Convert tokens to a PyTorch tensor or NumPy array for easier slicing\n",
    "tokens_tensor = torch.tensor(tokens)\n",
    "num_samples = len(tokens_tensor)\n",
    "\n",
    "# Shuffle the data (if needed)\n",
    "indices = torch.randperm(num_samples)\n",
    "\n",
    "# Calculate split indices\n",
    "split_idx = int(num_samples * 0.7)\n",
    "\n",
    "# Split the dataset\n",
    "train_tokens = tokens_tensor[indices[:split_idx]]\n",
    "test_tokens = tokens_tensor[indices[split_idx:]]\n"
   ]
  }
 ],
 "metadata": {
  "language_info": {
   "name": "python"
  }
 },
 "nbformat": 4,
 "nbformat_minor": 2
}
